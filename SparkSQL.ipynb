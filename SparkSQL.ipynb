{
 "cells": [
  {
   "cell_type": "code",
   "execution_count": 59,
   "id": "1864650d",
   "metadata": {},
   "outputs": [],
   "source": [
    "import pyspark\n",
    "from pyspark.sql import SparkSession\n",
    "from pyspark.context import SparkContext, SparkConf\n",
    "from pyspark.sql.types import StructType, StringType, IntegerType, ArrayType\n",
    "import pandas as pd"
   ]
  },
  {
   "cell_type": "code",
   "execution_count": 2,
   "id": "9a3a129a",
   "metadata": {},
   "outputs": [],
   "source": [
    "spark = SparkSession.builder.appName('test').master('local[*]').getOrCreate()"
   ]
  },
  {
   "cell_type": "code",
   "execution_count": 3,
   "id": "38b3be2a",
   "metadata": {},
   "outputs": [],
   "source": [
    "sc = spark.sparkContext"
   ]
  },
  {
   "cell_type": "code",
   "execution_count": 4,
   "id": "a4e5d904",
   "metadata": {},
   "outputs": [],
   "source": [
    "df = spark.read.csv('stu_score.txt', sep=',', header=False)"
   ]
  },
  {
   "cell_type": "code",
   "execution_count": 5,
   "id": "fdf772fa",
   "metadata": {},
   "outputs": [
    {
     "name": "stdout",
     "output_type": "stream",
     "text": [
      "+---+----+---+\n",
      "|_c0| _c1|_c2|\n",
      "+---+----+---+\n",
      "|  1|语文| 99|\n",
      "|  2|语文| 99|\n",
      "+---+----+---+\n",
      "only showing top 2 rows\n",
      "\n"
     ]
    }
   ],
   "source": [
    "df.show(2)"
   ]
  },
  {
   "cell_type": "code",
   "execution_count": 6,
   "id": "06814bce",
   "metadata": {},
   "outputs": [],
   "source": [
    "df2 = df.toDF('id', 'name', 'score')"
   ]
  },
  {
   "cell_type": "code",
   "execution_count": 7,
   "id": "b237773f",
   "metadata": {},
   "outputs": [
    {
     "name": "stdout",
     "output_type": "stream",
     "text": [
      "root\n",
      " |-- id: string (nullable = true)\n",
      " |-- name: string (nullable = true)\n",
      " |-- score: string (nullable = true)\n",
      "\n"
     ]
    }
   ],
   "source": [
    "df2.printSchema()"
   ]
  },
  {
   "cell_type": "code",
   "execution_count": 8,
   "id": "ee0b0c0a",
   "metadata": {},
   "outputs": [
    {
     "name": "stdout",
     "output_type": "stream",
     "text": [
      "+---+----+-----+\n",
      "| id|name|score|\n",
      "+---+----+-----+\n",
      "|  1|语文|   99|\n",
      "|  2|语文|   99|\n",
      "|  3|语文|   99|\n",
      "+---+----+-----+\n",
      "only showing top 3 rows\n",
      "\n"
     ]
    }
   ],
   "source": [
    "df2.show(3)"
   ]
  },
  {
   "cell_type": "code",
   "execution_count": 9,
   "id": "45d177ac",
   "metadata": {},
   "outputs": [],
   "source": [
    "df2.createTempView('score')\n",
    "\n",
    "# df2.createGlobalTempView"
   ]
  },
  {
   "cell_type": "code",
   "execution_count": 10,
   "id": "847e03fa",
   "metadata": {},
   "outputs": [
    {
     "name": "stdout",
     "output_type": "stream",
     "text": [
      "+---+----+-----+\n",
      "| id|name|score|\n",
      "+---+----+-----+\n",
      "|  1|语文|   99|\n",
      "|  2|语文|   99|\n",
      "|  3|语文|   99|\n",
      "|  4|语文|   99|\n",
      "|  5|语文|   99|\n",
      "+---+----+-----+\n",
      "\n"
     ]
    }
   ],
   "source": [
    "#SQL\n",
    "spark.sql(\"\"\"\n",
    "    SELECT * FROM score WHERE name ='语文' LIMIT 5\n",
    "\"\"\").show()\n",
    " \n"
   ]
  },
  {
   "cell_type": "code",
   "execution_count": 11,
   "id": "a1ae1701",
   "metadata": {},
   "outputs": [
    {
     "name": "stdout",
     "output_type": "stream",
     "text": [
      "+---+----+-----+\n",
      "| id|name|score|\n",
      "+---+----+-----+\n",
      "|  1|语文|   99|\n",
      "|  2|语文|   99|\n",
      "|  3|语文|   99|\n",
      "|  4|语文|   99|\n",
      "|  5|语文|   99|\n",
      "+---+----+-----+\n",
      "\n"
     ]
    }
   ],
   "source": [
    "# DSL\n",
    "df2.where(\"name = '语文'\") . limit(5). show()"
   ]
  },
  {
   "cell_type": "code",
   "execution_count": null,
   "id": "10a66b62",
   "metadata": {},
   "outputs": [],
   "source": []
  },
  {
   "cell_type": "code",
   "execution_count": null,
   "id": "92689d34",
   "metadata": {},
   "outputs": [],
   "source": []
  },
  {
   "cell_type": "code",
   "execution_count": null,
   "id": "9c4a8094",
   "metadata": {},
   "outputs": [],
   "source": []
  },
  {
   "cell_type": "markdown",
   "id": "8b04946c",
   "metadata": {},
   "source": [
    "# TXT  rdd to DF"
   ]
  },
  {
   "cell_type": "markdown",
   "id": "09de9647",
   "metadata": {},
   "source": [
    "# 1"
   ]
  },
  {
   "cell_type": "code",
   "execution_count": 12,
   "id": "1a8e1272",
   "metadata": {},
   "outputs": [
    {
     "data": {
      "text/plain": [
       "['zhangsan, 23', 'sb, 49', 'wm, 90']"
      ]
     },
     "execution_count": 12,
     "metadata": {},
     "output_type": "execute_result"
    }
   ],
   "source": [
    "rdd = sc.textFile('people.txt')\n",
    "rdd.collect()"
   ]
  },
  {
   "cell_type": "code",
   "execution_count": 13,
   "id": "6c76fa02",
   "metadata": {},
   "outputs": [
    {
     "data": {
      "text/plain": [
       "[['zhangsan', ' 23'], ['sb', ' 49'], ['wm', ' 90']]"
      ]
     },
     "execution_count": 13,
     "metadata": {},
     "output_type": "execute_result"
    }
   ],
   "source": [
    "rdd = rdd.map(lambda x: x.split(','))\n",
    "rdd.collect()"
   ]
  },
  {
   "cell_type": "code",
   "execution_count": 14,
   "id": "5df66fa4",
   "metadata": {},
   "outputs": [],
   "source": [
    "rdd =rdd.map(lambda x: (x[0], int(x[1])))"
   ]
  },
  {
   "cell_type": "code",
   "execution_count": 15,
   "id": "cb4afd81",
   "metadata": {},
   "outputs": [
    {
     "data": {
      "text/plain": [
       "[('zhangsan', 23), ('sb', 49), ('wm', 90)]"
      ]
     },
     "execution_count": 15,
     "metadata": {},
     "output_type": "execute_result"
    }
   ],
   "source": [
    "rdd.collect()"
   ]
  },
  {
   "cell_type": "code",
   "execution_count": 16,
   "id": "085058d8",
   "metadata": {},
   "outputs": [],
   "source": [
    "df = spark.createDataFrame(rdd, schema=['name', 'age'])"
   ]
  },
  {
   "cell_type": "code",
   "execution_count": 17,
   "id": "c15203ca",
   "metadata": {},
   "outputs": [
    {
     "name": "stdout",
     "output_type": "stream",
     "text": [
      "root\n",
      " |-- name: string (nullable = true)\n",
      " |-- age: long (nullable = true)\n",
      "\n"
     ]
    }
   ],
   "source": [
    "df.printSchema()"
   ]
  },
  {
   "cell_type": "code",
   "execution_count": 18,
   "id": "ea24b6bc",
   "metadata": {},
   "outputs": [
    {
     "name": "stdout",
     "output_type": "stream",
     "text": [
      "+--------+---+\n",
      "|name    |age|\n",
      "+--------+---+\n",
      "|zhangsan|23 |\n",
      "|sb      |49 |\n",
      "|wm      |90 |\n",
      "+--------+---+\n",
      "\n"
     ]
    }
   ],
   "source": [
    "df.show(20, False)\n",
    "\n",
    "# False=> 如果数据长度超过20字节 不显示"
   ]
  },
  {
   "cell_type": "code",
   "execution_count": 19,
   "id": "1031000f",
   "metadata": {},
   "outputs": [],
   "source": [
    "df.createTempView('people')"
   ]
  },
  {
   "cell_type": "code",
   "execution_count": 20,
   "id": "a7741166",
   "metadata": {},
   "outputs": [
    {
     "name": "stdout",
     "output_type": "stream",
     "text": [
      "+--------+---+\n",
      "|    name|age|\n",
      "+--------+---+\n",
      "|zhangsan| 23|\n",
      "+--------+---+\n",
      "\n"
     ]
    }
   ],
   "source": [
    "spark.sql(  ' select * from people where age <30 ').show()"
   ]
  },
  {
   "cell_type": "code",
   "execution_count": null,
   "id": "369b5041",
   "metadata": {},
   "outputs": [],
   "source": []
  },
  {
   "cell_type": "markdown",
   "id": "afd4cf42",
   "metadata": {},
   "source": [
    "# 2"
   ]
  },
  {
   "cell_type": "code",
   "execution_count": 21,
   "id": "75e2fe12",
   "metadata": {},
   "outputs": [],
   "source": [
    "rdd = sc.textFile('people.txt').map(lambda x: x.split(',')).map(lambda x: (x[0], int(x[1])))"
   ]
  },
  {
   "cell_type": "code",
   "execution_count": 22,
   "id": "1cdd71c7",
   "metadata": {},
   "outputs": [],
   "source": [
    "schema = StructType().add('name', StringType(), nullable=True).add('age', IntegerType(), nullable=False)"
   ]
  },
  {
   "cell_type": "code",
   "execution_count": 23,
   "id": "7ce4c91a",
   "metadata": {},
   "outputs": [],
   "source": [
    "df = spark.createDataFrame(rdd, schema=schema)"
   ]
  },
  {
   "cell_type": "code",
   "execution_count": 24,
   "id": "91026cbf",
   "metadata": {},
   "outputs": [
    {
     "name": "stdout",
     "output_type": "stream",
     "text": [
      "root\n",
      " |-- name: string (nullable = true)\n",
      " |-- age: integer (nullable = false)\n",
      "\n"
     ]
    }
   ],
   "source": [
    "df.printSchema()"
   ]
  },
  {
   "cell_type": "code",
   "execution_count": 25,
   "id": "2780a1a0",
   "metadata": {},
   "outputs": [
    {
     "name": "stdout",
     "output_type": "stream",
     "text": [
      "+--------+---+\n",
      "|    name|age|\n",
      "+--------+---+\n",
      "|zhangsan| 23|\n",
      "|      sb| 49|\n",
      "|      wm| 90|\n",
      "+--------+---+\n",
      "\n"
     ]
    }
   ],
   "source": [
    "df.show()"
   ]
  },
  {
   "cell_type": "markdown",
   "id": "e1507139",
   "metadata": {},
   "source": [
    "# 3"
   ]
  },
  {
   "cell_type": "code",
   "execution_count": 26,
   "id": "d1189334",
   "metadata": {},
   "outputs": [],
   "source": [
    "df1 = rdd.toDF(['name', 'age'])"
   ]
  },
  {
   "cell_type": "code",
   "execution_count": 27,
   "id": "41e64b11",
   "metadata": {},
   "outputs": [
    {
     "name": "stdout",
     "output_type": "stream",
     "text": [
      "root\n",
      " |-- name: string (nullable = true)\n",
      " |-- age: long (nullable = true)\n",
      "\n"
     ]
    }
   ],
   "source": [
    "df1.printSchema()"
   ]
  },
  {
   "cell_type": "code",
   "execution_count": 28,
   "id": "7045c2c8",
   "metadata": {},
   "outputs": [
    {
     "data": {
      "text/plain": [
       "pyspark.sql.dataframe.DataFrame"
      ]
     },
     "execution_count": 28,
     "metadata": {},
     "output_type": "execute_result"
    }
   ],
   "source": [
    "type(df1)"
   ]
  },
  {
   "cell_type": "code",
   "execution_count": null,
   "id": "f643d2f5",
   "metadata": {},
   "outputs": [],
   "source": []
  },
  {
   "cell_type": "code",
   "execution_count": null,
   "id": "e16c5b43",
   "metadata": {},
   "outputs": [],
   "source": []
  },
  {
   "cell_type": "markdown",
   "id": "18a3c32d",
   "metadata": {},
   "source": [
    "# Pandas to "
   ]
  },
  {
   "cell_type": "code",
   "execution_count": 29,
   "id": "7fd917e4",
   "metadata": {},
   "outputs": [],
   "source": [
    "pdf = pd.DataFrame(\n",
    "    {\n",
    "        \n",
    "        'id': [1,2,3],\n",
    "        'name': ['sb', 'dasha', 'nt'],\n",
    "        'age': [10,30,50]\n",
    "    }\n",
    ")"
   ]
  },
  {
   "cell_type": "code",
   "execution_count": 30,
   "id": "7b73cfc0",
   "metadata": {},
   "outputs": [],
   "source": [
    "df = spark.createDataFrame(pdf)\n"
   ]
  },
  {
   "cell_type": "code",
   "execution_count": 31,
   "id": "afacad37",
   "metadata": {},
   "outputs": [
    {
     "name": "stdout",
     "output_type": "stream",
     "text": [
      "root\n",
      " |-- id: long (nullable = true)\n",
      " |-- name: string (nullable = true)\n",
      " |-- age: long (nullable = true)\n",
      "\n"
     ]
    }
   ],
   "source": [
    "df.printSchema()"
   ]
  },
  {
   "cell_type": "code",
   "execution_count": null,
   "id": "c06b535e",
   "metadata": {},
   "outputs": [],
   "source": []
  },
  {
   "cell_type": "code",
   "execution_count": null,
   "id": "a94f8e35",
   "metadata": {},
   "outputs": [],
   "source": []
  },
  {
   "cell_type": "markdown",
   "id": "a29e4498",
   "metadata": {},
   "source": [
    "# word count\n"
   ]
  },
  {
   "cell_type": "markdown",
   "id": "4f15f583",
   "metadata": {},
   "source": [
    "# SQL"
   ]
  },
  {
   "cell_type": "code",
   "execution_count": 32,
   "id": "1c59a4af",
   "metadata": {},
   "outputs": [],
   "source": [
    "rdd = sc.textFile('word.txt').flatMap( lambda x: x.split(' '))  .\\\n",
    "    map(lambda x: [x])"
   ]
  },
  {
   "cell_type": "code",
   "execution_count": 33,
   "id": "4a106ae0",
   "metadata": {},
   "outputs": [],
   "source": [
    "df =rdd.toDF(['word'])"
   ]
  },
  {
   "cell_type": "code",
   "execution_count": 34,
   "id": "be354e2e",
   "metadata": {},
   "outputs": [],
   "source": [
    "df.createTempView('words2')"
   ]
  },
  {
   "cell_type": "code",
   "execution_count": 35,
   "id": "ff3fbca4",
   "metadata": {},
   "outputs": [
    {
     "name": "stdout",
     "output_type": "stream",
     "text": [
      "+------+---+\n",
      "|  word|cnt|\n",
      "+------+---+\n",
      "|hadoop|  6|\n",
      "| spark|  3|\n",
      "| flink|  1|\n",
      "+------+---+\n",
      "\n"
     ]
    }
   ],
   "source": [
    "spark.sql(\"\"\"\n",
    "\n",
    "    SELECT word , COUNT(*)  AS cnt \n",
    "    FROM words2 \n",
    "    GROUP BY word \n",
    "    ORDER BY cnt DESC\n",
    "\"\"\").show()"
   ]
  },
  {
   "cell_type": "markdown",
   "id": "acc3e609",
   "metadata": {},
   "source": [
    "# DSL"
   ]
  },
  {
   "cell_type": "code",
   "execution_count": 36,
   "id": "4a4ffcd3",
   "metadata": {},
   "outputs": [],
   "source": [
    "from pyspark.sql import functions as F"
   ]
  },
  {
   "cell_type": "code",
   "execution_count": 37,
   "id": "2e8e1982",
   "metadata": {},
   "outputs": [],
   "source": [
    "df = spark.read.format(\"text\").load('word.txt')"
   ]
  },
  {
   "cell_type": "code",
   "execution_count": 38,
   "id": "1fe0e190",
   "metadata": {},
   "outputs": [],
   "source": [
    "df2 =df.withColumn(\"value\", F.explode (F.split(df['value'] , ' ')))"
   ]
  },
  {
   "cell_type": "code",
   "execution_count": 39,
   "id": "9d15e5f5",
   "metadata": {},
   "outputs": [
    {
     "name": "stdout",
     "output_type": "stream",
     "text": [
      "+------+\n",
      "| value|\n",
      "+------+\n",
      "|hadoop|\n",
      "|hadoop|\n",
      "| spark|\n",
      "|hadoop|\n",
      "|hadoop|\n",
      "| spark|\n",
      "|hadoop|\n",
      "|hadoop|\n",
      "| spark|\n",
      "| flink|\n",
      "+------+\n",
      "\n"
     ]
    }
   ],
   "source": [
    "df2.show()"
   ]
  },
  {
   "cell_type": "code",
   "execution_count": 40,
   "id": "edff36a0",
   "metadata": {},
   "outputs": [
    {
     "name": "stdout",
     "output_type": "stream",
     "text": [
      "+------+---+\n",
      "|  word|cnt|\n",
      "+------+---+\n",
      "|hadoop|  6|\n",
      "| spark|  3|\n",
      "| flink|  1|\n",
      "+------+---+\n",
      "\n"
     ]
    }
   ],
   "source": [
    "df2.groupBy('value').count() .\\\n",
    "    withColumnRenamed('value', 'word').\\\n",
    "    withColumnRenamed('count', 'cnt').\\\n",
    "    orderBy('cnt', ascending = False).   show()"
   ]
  },
  {
   "cell_type": "code",
   "execution_count": null,
   "id": "b99197ee",
   "metadata": {},
   "outputs": [],
   "source": []
  },
  {
   "cell_type": "code",
   "execution_count": null,
   "id": "1af4ba85",
   "metadata": {},
   "outputs": [],
   "source": []
  },
  {
   "cell_type": "code",
   "execution_count": null,
   "id": "56c1dcb7",
   "metadata": {},
   "outputs": [],
   "source": []
  },
  {
   "cell_type": "markdown",
   "id": "7c1b5e6e",
   "metadata": {},
   "source": [
    "# UDF"
   ]
  },
  {
   "cell_type": "code",
   "execution_count": 42,
   "id": "656131e5",
   "metadata": {},
   "outputs": [],
   "source": [
    "rdd = sc.parallelize([1,2,3,4,5,6,7,8,9]).map(lambda x:[x])"
   ]
  },
  {
   "cell_type": "code",
   "execution_count": 43,
   "id": "7e911673",
   "metadata": {},
   "outputs": [],
   "source": [
    "df = rdd.toDF(['num'])"
   ]
  },
  {
   "cell_type": "code",
   "execution_count": 51,
   "id": "d538a37d",
   "metadata": {},
   "outputs": [],
   "source": [
    "def num_rid_10(x): return x*10"
   ]
  },
  {
   "cell_type": "code",
   "execution_count": 52,
   "id": "21127840",
   "metadata": {},
   "outputs": [],
   "source": [
    "udf2 = spark.udf.register('udf1', num_rid_10, IntegerType())"
   ]
  },
  {
   "cell_type": "markdown",
   "id": "adce0bcb",
   "metadata": {},
   "source": [
    "# SQL"
   ]
  },
  {
   "cell_type": "code",
   "execution_count": 53,
   "id": "0f308e28",
   "metadata": {},
   "outputs": [
    {
     "name": "stdout",
     "output_type": "stream",
     "text": [
      "+---------+\n",
      "|udf1(num)|\n",
      "+---------+\n",
      "|       10|\n",
      "|       20|\n",
      "|       30|\n",
      "|       40|\n",
      "|       50|\n",
      "|       60|\n",
      "|       70|\n",
      "|       80|\n",
      "|       90|\n",
      "+---------+\n",
      "\n"
     ]
    }
   ],
   "source": [
    "df.selectExpr('udf1(num)').show()"
   ]
  },
  {
   "cell_type": "markdown",
   "id": "c985fd0b",
   "metadata": {},
   "source": [
    "# DSL"
   ]
  },
  {
   "cell_type": "code",
   "execution_count": 54,
   "id": "7b40c227",
   "metadata": {},
   "outputs": [
    {
     "name": "stdout",
     "output_type": "stream",
     "text": [
      "+---------+\n",
      "|udf1(num)|\n",
      "+---------+\n",
      "|       10|\n",
      "|       20|\n",
      "|       30|\n",
      "|       40|\n",
      "|       50|\n",
      "|       60|\n",
      "|       70|\n",
      "|       80|\n",
      "|       90|\n",
      "+---------+\n",
      "\n"
     ]
    }
   ],
   "source": [
    "df.select(udf2(df['num'])).show()"
   ]
  },
  {
   "cell_type": "code",
   "execution_count": null,
   "id": "24a43028",
   "metadata": {},
   "outputs": [],
   "source": []
  },
  {
   "cell_type": "code",
   "execution_count": null,
   "id": "8da5b6ff",
   "metadata": {},
   "outputs": [],
   "source": []
  },
  {
   "cell_type": "code",
   "execution_count": null,
   "id": "4827c31c",
   "metadata": {},
   "outputs": [],
   "source": []
  },
  {
   "cell_type": "code",
   "execution_count": null,
   "id": "8197bd9f",
   "metadata": {},
   "outputs": [],
   "source": []
  },
  {
   "cell_type": "code",
   "execution_count": null,
   "id": "046fe59f",
   "metadata": {},
   "outputs": [],
   "source": [
    "['hadoop hadoop spark', 'hadoop hadoop spark', 'hadoop hadoop spark flink']"
   ]
  },
  {
   "cell_type": "code",
   "execution_count": 56,
   "id": "f1341fb8",
   "metadata": {},
   "outputs": [],
   "source": [
    "rdd = sc.parallelize([   ['hadoop hadoop spark'] ,  ['hadoop hadoop spark flink']    ])"
   ]
  },
  {
   "cell_type": "code",
   "execution_count": 57,
   "id": "3fae4c55",
   "metadata": {},
   "outputs": [],
   "source": [
    "df = rdd.toDF(['line'])"
   ]
  },
  {
   "cell_type": "code",
   "execution_count": 58,
   "id": "be3f1653",
   "metadata": {},
   "outputs": [],
   "source": [
    "def split_line(data): return data.split(' ')"
   ]
  },
  {
   "cell_type": "code",
   "execution_count": 60,
   "id": "6c42e926",
   "metadata": {},
   "outputs": [],
   "source": [
    "udf2 =  spark.udf.register('udf1', split_line, ArrayType(StringType()))"
   ]
  },
  {
   "cell_type": "markdown",
   "id": "5d8bf011",
   "metadata": {},
   "source": [
    "# DSL"
   ]
  },
  {
   "cell_type": "code",
   "execution_count": 61,
   "id": "2b8b57e4",
   "metadata": {},
   "outputs": [
    {
     "name": "stdout",
     "output_type": "stream",
     "text": [
      "+--------------------+\n",
      "|          udf1(line)|\n",
      "+--------------------+\n",
      "|[hadoop, hadoop, ...|\n",
      "|[hadoop, hadoop, ...|\n",
      "+--------------------+\n",
      "\n"
     ]
    }
   ],
   "source": [
    "df.select(udf2(df['line'])).show()"
   ]
  },
  {
   "cell_type": "markdown",
   "id": "1b6a55f6",
   "metadata": {},
   "source": [
    "# SQL"
   ]
  },
  {
   "cell_type": "code",
   "execution_count": 62,
   "id": "ac5325a8",
   "metadata": {},
   "outputs": [],
   "source": [
    "df.createTempView('lines')"
   ]
  },
  {
   "cell_type": "code",
   "execution_count": 65,
   "id": "ee560a64",
   "metadata": {},
   "outputs": [
    {
     "name": "stdout",
     "output_type": "stream",
     "text": [
      "+------------------------------+\n",
      "|udf1(line)                    |\n",
      "+------------------------------+\n",
      "|[hadoop, hadoop, spark]       |\n",
      "|[hadoop, hadoop, spark, flink]|\n",
      "+------------------------------+\n",
      "\n"
     ]
    }
   ],
   "source": [
    "spark.sql(' select udf1(line) from lines').show(truncate=False)"
   ]
  },
  {
   "cell_type": "code",
   "execution_count": null,
   "id": "4438328f",
   "metadata": {},
   "outputs": [],
   "source": []
  },
  {
   "cell_type": "markdown",
   "id": "22befa8e",
   "metadata": {},
   "source": [
    "# F => only DSL"
   ]
  },
  {
   "cell_type": "code",
   "execution_count": 66,
   "id": "7fb0d2d0",
   "metadata": {},
   "outputs": [],
   "source": [
    "udf3 = F.udf(split_line, ArrayType(StringType()))"
   ]
  },
  {
   "cell_type": "code",
   "execution_count": 67,
   "id": "99366115",
   "metadata": {},
   "outputs": [
    {
     "name": "stdout",
     "output_type": "stream",
     "text": [
      "+------------------------------+\n",
      "|split_line(line)              |\n",
      "+------------------------------+\n",
      "|[hadoop, hadoop, spark]       |\n",
      "|[hadoop, hadoop, spark, flink]|\n",
      "+------------------------------+\n",
      "\n"
     ]
    }
   ],
   "source": [
    "df.select(  udf3(df['line'])  ).show(truncate=False)"
   ]
  },
  {
   "cell_type": "code",
   "execution_count": null,
   "id": "a9280f5e",
   "metadata": {},
   "outputs": [],
   "source": []
  },
  {
   "cell_type": "code",
   "execution_count": null,
   "id": "403b47c8",
   "metadata": {},
   "outputs": [],
   "source": []
  },
  {
   "cell_type": "code",
   "execution_count": null,
   "id": "95887f13",
   "metadata": {},
   "outputs": [],
   "source": []
  }
 ],
 "metadata": {
  "kernelspec": {
   "display_name": "Python 3",
   "language": "python",
   "name": "python3"
  },
  "language_info": {
   "codemirror_mode": {
    "name": "ipython",
    "version": 3
   },
   "file_extension": ".py",
   "mimetype": "text/x-python",
   "name": "python",
   "nbconvert_exporter": "python",
   "pygments_lexer": "ipython3",
   "version": "3.8.8"
  }
 },
 "nbformat": 4,
 "nbformat_minor": 5
}
